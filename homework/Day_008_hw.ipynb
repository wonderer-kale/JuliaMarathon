{
 "cells": [
  {
   "cell_type": "markdown",
   "metadata": {},
   "source": [
    "# Julia 字元 (Char) 與字串 (String)\n",
    "\n",
    "## Day 008 作業：讀取使用者輸入字串，並印出每個字元\n",
    "\n",
    "1. 使用 `readline()` 函式，讀取使用者輸入之字串。`readline()`是從 console 讀取使用者輸入的方式，讀進來的資料型別為字串，`readline()`的說明可參照官方文件 [Base.readline](https://docs.julialang.org/en/v1/base/io-network/#Base.readline)"
   ]
  },
  {
   "cell_type": "code",
   "execution_count": 8,
   "metadata": {},
   "outputs": [
    {
     "name": "stdout",
     "output_type": "stream",
     "text": [
      "stdin> hello, Julia\n"
     ]
    },
    {
     "data": {
      "text/plain": [
       "\"hello, Julia\""
      ]
     },
     "execution_count": 8,
     "metadata": {},
     "output_type": "execute_result"
    }
   ],
   "source": [
    "str = readline()"
   ]
  },
  {
   "cell_type": "markdown",
   "metadata": {},
   "source": [
    "2. 印出字串中所有字元。"
   ]
  },
  {
   "cell_type": "code",
   "execution_count": 9,
   "metadata": {},
   "outputs": [
    {
     "name": "stdout",
     "output_type": "stream",
     "text": [
      "h\n",
      "e\n",
      "l\n",
      "l\n",
      "o\n",
      ",\n",
      " \n",
      "J\n",
      "u\n",
      "l\n",
      "i\n",
      "a\n"
     ]
    }
   ],
   "source": [
    "# 程式碼\n",
    "for i in (1:length(str))\n",
    "    println(str[i])\n",
    "end"
   ]
  },
  {
   "cell_type": "code",
   "execution_count": null,
   "metadata": {},
   "outputs": [],
   "source": []
  }
 ],
 "metadata": {
  "kernelspec": {
   "display_name": "Julia 1.4.2",
   "language": "julia",
   "name": "julia-1.4"
  },
  "language_info": {
   "file_extension": ".jl",
   "mimetype": "application/julia",
   "name": "julia",
   "version": "1.4.2"
  }
 },
 "nbformat": 4,
 "nbformat_minor": 4
}
