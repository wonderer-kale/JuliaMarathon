{
 "cells": [
  {
   "cell_type": "markdown",
   "metadata": {},
   "source": [
    "# Julia 機器學習：GLM 線性迴歸\n",
    "\n",
    "## 作業 027：波士頓房價預測資料集\n",
    "\n",
    "請使用 GLM 中的模型，建立一個預測模型來預測波士頓的房價。"
   ]
  },
  {
   "cell_type": "code",
   "execution_count": 57,
   "metadata": {},
   "outputs": [],
   "source": [
    "using GLM, RDatasets, MLDataUtils"
   ]
  },
  {
   "cell_type": "markdown",
   "metadata": {},
   "source": [
    "## 讀取資料"
   ]
  },
  {
   "cell_type": "code",
   "execution_count": 58,
   "metadata": {
    "scrolled": false
   },
   "outputs": [
    {
     "data": {
      "text/html": [
       "<table class=\"data-frame\"><thead><tr><th></th><th>Crim</th><th>Zn</th><th>Indus</th><th>Chas</th><th>NOx</th><th>Rm</th><th>Age</th><th>Dis</th><th>Rad</th><th>Tax</th></tr><tr><th></th><th>Float64</th><th>Float64</th><th>Float64</th><th>Int64</th><th>Float64</th><th>Float64</th><th>Float64</th><th>Float64</th><th>Int64</th><th>Int64</th></tr></thead><tbody><p>10 rows × 14 columns (omitted printing of 4 columns)</p><tr><th>1</th><td>0.00632</td><td>18.0</td><td>2.31</td><td>0</td><td>0.538</td><td>6.575</td><td>65.2</td><td>4.09</td><td>1</td><td>296</td></tr><tr><th>2</th><td>0.02731</td><td>0.0</td><td>7.07</td><td>0</td><td>0.469</td><td>6.421</td><td>78.9</td><td>4.9671</td><td>2</td><td>242</td></tr><tr><th>3</th><td>0.02729</td><td>0.0</td><td>7.07</td><td>0</td><td>0.469</td><td>7.185</td><td>61.1</td><td>4.9671</td><td>2</td><td>242</td></tr><tr><th>4</th><td>0.03237</td><td>0.0</td><td>2.18</td><td>0</td><td>0.458</td><td>6.998</td><td>45.8</td><td>6.0622</td><td>3</td><td>222</td></tr><tr><th>5</th><td>0.06905</td><td>0.0</td><td>2.18</td><td>0</td><td>0.458</td><td>7.147</td><td>54.2</td><td>6.0622</td><td>3</td><td>222</td></tr><tr><th>6</th><td>0.02985</td><td>0.0</td><td>2.18</td><td>0</td><td>0.458</td><td>6.43</td><td>58.7</td><td>6.0622</td><td>3</td><td>222</td></tr><tr><th>7</th><td>0.08829</td><td>12.5</td><td>7.87</td><td>0</td><td>0.524</td><td>6.012</td><td>66.6</td><td>5.5605</td><td>5</td><td>311</td></tr><tr><th>8</th><td>0.14455</td><td>12.5</td><td>7.87</td><td>0</td><td>0.524</td><td>6.172</td><td>96.1</td><td>5.9505</td><td>5</td><td>311</td></tr><tr><th>9</th><td>0.21124</td><td>12.5</td><td>7.87</td><td>0</td><td>0.524</td><td>5.631</td><td>100.0</td><td>6.0821</td><td>5</td><td>311</td></tr><tr><th>10</th><td>0.17004</td><td>12.5</td><td>7.87</td><td>0</td><td>0.524</td><td>6.004</td><td>85.9</td><td>6.5921</td><td>5</td><td>311</td></tr></tbody></table>"
      ],
      "text/latex": [
       "\\begin{tabular}{r|ccccccccccc}\n",
       "\t& Crim & Zn & Indus & Chas & NOx & Rm & Age & Dis & Rad & Tax & \\\\\n",
       "\t\\hline\n",
       "\t& Float64 & Float64 & Float64 & Int64 & Float64 & Float64 & Float64 & Float64 & Int64 & Int64 & \\\\\n",
       "\t\\hline\n",
       "\t1 & 0.00632 & 18.0 & 2.31 & 0 & 0.538 & 6.575 & 65.2 & 4.09 & 1 & 296 & $\\dots$ \\\\\n",
       "\t2 & 0.02731 & 0.0 & 7.07 & 0 & 0.469 & 6.421 & 78.9 & 4.9671 & 2 & 242 & $\\dots$ \\\\\n",
       "\t3 & 0.02729 & 0.0 & 7.07 & 0 & 0.469 & 7.185 & 61.1 & 4.9671 & 2 & 242 & $\\dots$ \\\\\n",
       "\t4 & 0.03237 & 0.0 & 2.18 & 0 & 0.458 & 6.998 & 45.8 & 6.0622 & 3 & 222 & $\\dots$ \\\\\n",
       "\t5 & 0.06905 & 0.0 & 2.18 & 0 & 0.458 & 7.147 & 54.2 & 6.0622 & 3 & 222 & $\\dots$ \\\\\n",
       "\t6 & 0.02985 & 0.0 & 2.18 & 0 & 0.458 & 6.43 & 58.7 & 6.0622 & 3 & 222 & $\\dots$ \\\\\n",
       "\t7 & 0.08829 & 12.5 & 7.87 & 0 & 0.524 & 6.012 & 66.6 & 5.5605 & 5 & 311 & $\\dots$ \\\\\n",
       "\t8 & 0.14455 & 12.5 & 7.87 & 0 & 0.524 & 6.172 & 96.1 & 5.9505 & 5 & 311 & $\\dots$ \\\\\n",
       "\t9 & 0.21124 & 12.5 & 7.87 & 0 & 0.524 & 5.631 & 100.0 & 6.0821 & 5 & 311 & $\\dots$ \\\\\n",
       "\t10 & 0.17004 & 12.5 & 7.87 & 0 & 0.524 & 6.004 & 85.9 & 6.5921 & 5 & 311 & $\\dots$ \\\\\n",
       "\\end{tabular}\n"
      ],
      "text/plain": [
       "10×14 DataFrame. Omitted printing of 7 columns\n",
       "│ Row │ Crim    │ Zn      │ Indus   │ Chas  │ NOx     │ Rm      │ Age     │\n",
       "│     │ \u001b[90mFloat64\u001b[39m │ \u001b[90mFloat64\u001b[39m │ \u001b[90mFloat64\u001b[39m │ \u001b[90mInt64\u001b[39m │ \u001b[90mFloat64\u001b[39m │ \u001b[90mFloat64\u001b[39m │ \u001b[90mFloat64\u001b[39m │\n",
       "├─────┼─────────┼─────────┼─────────┼───────┼─────────┼─────────┼─────────┤\n",
       "│ 1   │ 0.00632 │ 18.0    │ 2.31    │ 0     │ 0.538   │ 6.575   │ 65.2    │\n",
       "│ 2   │ 0.02731 │ 0.0     │ 7.07    │ 0     │ 0.469   │ 6.421   │ 78.9    │\n",
       "│ 3   │ 0.02729 │ 0.0     │ 7.07    │ 0     │ 0.469   │ 7.185   │ 61.1    │\n",
       "│ 4   │ 0.03237 │ 0.0     │ 2.18    │ 0     │ 0.458   │ 6.998   │ 45.8    │\n",
       "│ 5   │ 0.06905 │ 0.0     │ 2.18    │ 0     │ 0.458   │ 7.147   │ 54.2    │\n",
       "│ 6   │ 0.02985 │ 0.0     │ 2.18    │ 0     │ 0.458   │ 6.43    │ 58.7    │\n",
       "│ 7   │ 0.08829 │ 12.5    │ 7.87    │ 0     │ 0.524   │ 6.012   │ 66.6    │\n",
       "│ 8   │ 0.14455 │ 12.5    │ 7.87    │ 0     │ 0.524   │ 6.172   │ 96.1    │\n",
       "│ 9   │ 0.21124 │ 12.5    │ 7.87    │ 0     │ 0.524   │ 5.631   │ 100.0   │\n",
       "│ 10  │ 0.17004 │ 12.5    │ 7.87    │ 0     │ 0.524   │ 6.004   │ 85.9    │"
      ]
     },
     "execution_count": 58,
     "metadata": {},
     "output_type": "execute_result"
    }
   ],
   "source": [
    "boston = dataset(\"MASS\", \"Boston\")\n",
    "first(boston, 10)"
   ]
  },
  {
   "cell_type": "markdown",
   "metadata": {},
   "source": [
    "## 觀察資料"
   ]
  },
  {
   "cell_type": "code",
   "execution_count": 66,
   "metadata": {
    "scrolled": false
   },
   "outputs": [
    {
     "data": {
      "text/html": [
       "<table class=\"data-frame\"><thead><tr><th></th><th>variable</th><th>mean</th><th>min</th><th>median</th><th>max</th><th>nunique</th><th>nmissing</th><th>eltype</th></tr><tr><th></th><th>Symbol</th><th>Float64</th><th>Real</th><th>Float64</th><th>Real</th><th>Nothing</th><th>Nothing</th><th>DataType</th></tr></thead><tbody><p>14 rows × 8 columns</p><tr><th>1</th><td>Crim</td><td>3.61352</td><td>0.00632</td><td>0.25651</td><td>88.9762</td><td></td><td></td><td>Float64</td></tr><tr><th>2</th><td>Zn</td><td>11.3636</td><td>0.0</td><td>0.0</td><td>100.0</td><td></td><td></td><td>Float64</td></tr><tr><th>3</th><td>Indus</td><td>11.1368</td><td>0.46</td><td>9.69</td><td>27.74</td><td></td><td></td><td>Float64</td></tr><tr><th>4</th><td>Chas</td><td>0.06917</td><td>0</td><td>0.0</td><td>1</td><td></td><td></td><td>Int64</td></tr><tr><th>5</th><td>NOx</td><td>0.554695</td><td>0.385</td><td>0.538</td><td>0.871</td><td></td><td></td><td>Float64</td></tr><tr><th>6</th><td>Rm</td><td>6.28463</td><td>3.561</td><td>6.2085</td><td>8.78</td><td></td><td></td><td>Float64</td></tr><tr><th>7</th><td>Age</td><td>68.5749</td><td>2.9</td><td>77.5</td><td>100.0</td><td></td><td></td><td>Float64</td></tr><tr><th>8</th><td>Dis</td><td>3.79504</td><td>1.1296</td><td>3.20745</td><td>12.1265</td><td></td><td></td><td>Float64</td></tr><tr><th>9</th><td>Rad</td><td>9.54941</td><td>1</td><td>5.0</td><td>24</td><td></td><td></td><td>Int64</td></tr><tr><th>10</th><td>Tax</td><td>408.237</td><td>187</td><td>330.0</td><td>711</td><td></td><td></td><td>Int64</td></tr><tr><th>11</th><td>PTRatio</td><td>18.4555</td><td>12.6</td><td>19.05</td><td>22.0</td><td></td><td></td><td>Float64</td></tr><tr><th>12</th><td>Black</td><td>356.674</td><td>0.32</td><td>391.44</td><td>396.9</td><td></td><td></td><td>Float64</td></tr><tr><th>13</th><td>LStat</td><td>12.6531</td><td>1.73</td><td>11.36</td><td>37.97</td><td></td><td></td><td>Float64</td></tr><tr><th>14</th><td>MedV</td><td>22.5328</td><td>5.0</td><td>21.2</td><td>50.0</td><td></td><td></td><td>Float64</td></tr></tbody></table>"
      ],
      "text/latex": [
       "\\begin{tabular}{r|cccccccc}\n",
       "\t& variable & mean & min & median & max & nunique & nmissing & eltype\\\\\n",
       "\t\\hline\n",
       "\t& Symbol & Float64 & Real & Float64 & Real & Nothing & Nothing & DataType\\\\\n",
       "\t\\hline\n",
       "\t1 & Crim & 3.61352 & 0.00632 & 0.25651 & 88.9762 &  &  & Float64 \\\\\n",
       "\t2 & Zn & 11.3636 & 0.0 & 0.0 & 100.0 &  &  & Float64 \\\\\n",
       "\t3 & Indus & 11.1368 & 0.46 & 9.69 & 27.74 &  &  & Float64 \\\\\n",
       "\t4 & Chas & 0.06917 & 0 & 0.0 & 1 &  &  & Int64 \\\\\n",
       "\t5 & NOx & 0.554695 & 0.385 & 0.538 & 0.871 &  &  & Float64 \\\\\n",
       "\t6 & Rm & 6.28463 & 3.561 & 6.2085 & 8.78 &  &  & Float64 \\\\\n",
       "\t7 & Age & 68.5749 & 2.9 & 77.5 & 100.0 &  &  & Float64 \\\\\n",
       "\t8 & Dis & 3.79504 & 1.1296 & 3.20745 & 12.1265 &  &  & Float64 \\\\\n",
       "\t9 & Rad & 9.54941 & 1 & 5.0 & 24 &  &  & Int64 \\\\\n",
       "\t10 & Tax & 408.237 & 187 & 330.0 & 711 &  &  & Int64 \\\\\n",
       "\t11 & PTRatio & 18.4555 & 12.6 & 19.05 & 22.0 &  &  & Float64 \\\\\n",
       "\t12 & Black & 356.674 & 0.32 & 391.44 & 396.9 &  &  & Float64 \\\\\n",
       "\t13 & LStat & 12.6531 & 1.73 & 11.36 & 37.97 &  &  & Float64 \\\\\n",
       "\t14 & MedV & 22.5328 & 5.0 & 21.2 & 50.0 &  &  & Float64 \\\\\n",
       "\\end{tabular}\n"
      ],
      "text/plain": [
       "14×8 DataFrame. Omitted printing of 1 columns\n",
       "│ Row │ variable │ mean     │ min     │ median  │ max     │ nunique │ nmissing │\n",
       "│     │ \u001b[90mSymbol\u001b[39m   │ \u001b[90mFloat64\u001b[39m  │ \u001b[90mReal\u001b[39m    │ \u001b[90mFloat64\u001b[39m │ \u001b[90mReal\u001b[39m    │ \u001b[90mNothing\u001b[39m │ \u001b[90mNothing\u001b[39m  │\n",
       "├─────┼──────────┼──────────┼─────────┼─────────┼─────────┼─────────┼──────────┤\n",
       "│ 1   │ Crim     │ 3.61352  │ 0.00632 │ 0.25651 │ 88.9762 │         │          │\n",
       "│ 2   │ Zn       │ 11.3636  │ 0.0     │ 0.0     │ 100.0   │         │          │\n",
       "│ 3   │ Indus    │ 11.1368  │ 0.46    │ 9.69    │ 27.74   │         │          │\n",
       "│ 4   │ Chas     │ 0.06917  │ 0       │ 0.0     │ 1       │         │          │\n",
       "│ 5   │ NOx      │ 0.554695 │ 0.385   │ 0.538   │ 0.871   │         │          │\n",
       "│ 6   │ Rm       │ 6.28463  │ 3.561   │ 6.2085  │ 8.78    │         │          │\n",
       "│ 7   │ Age      │ 68.5749  │ 2.9     │ 77.5    │ 100.0   │         │          │\n",
       "│ 8   │ Dis      │ 3.79504  │ 1.1296  │ 3.20745 │ 12.1265 │         │          │\n",
       "│ 9   │ Rad      │ 9.54941  │ 1       │ 5.0     │ 24      │         │          │\n",
       "│ 10  │ Tax      │ 408.237  │ 187     │ 330.0   │ 711     │         │          │\n",
       "│ 11  │ PTRatio  │ 18.4555  │ 12.6    │ 19.05   │ 22.0    │         │          │\n",
       "│ 12  │ Black    │ 356.674  │ 0.32    │ 391.44  │ 396.9   │         │          │\n",
       "│ 13  │ LStat    │ 12.6531  │ 1.73    │ 11.36   │ 37.97   │         │          │\n",
       "│ 14  │ MedV     │ 22.5328  │ 5.0     │ 21.2    │ 50.0    │         │          │"
      ]
     },
     "execution_count": 66,
     "metadata": {},
     "output_type": "execute_result"
    }
   ],
   "source": [
    "describe(boston)"
   ]
  },
  {
   "cell_type": "markdown",
   "metadata": {},
   "source": [
    "## 切分資料"
   ]
  },
  {
   "cell_type": "code",
   "execution_count": 67,
   "metadata": {},
   "outputs": [],
   "source": [
    "indecies = MLDataUtils.shuffleobs(collect(1:nrow(boston)))\n",
    "train_ind, test_ind = MLDataUtils.splitobs(indecies, at = 0.8);"
   ]
  },
  {
   "cell_type": "code",
   "execution_count": 68,
   "metadata": {},
   "outputs": [],
   "source": [
    "train = boston[train_ind, :]\n",
    "test = boston[test_ind, :];"
   ]
  },
  {
   "cell_type": "markdown",
   "metadata": {},
   "source": [
    "## 線性迴歸模型"
   ]
  },
  {
   "cell_type": "code",
   "execution_count": 77,
   "metadata": {
    "scrolled": true
   },
   "outputs": [
    {
     "data": {
      "text/plain": [
       "StatsModels.TableRegressionModel{LinearModel{GLM.LmResp{Array{Float64,1}},GLM.DensePredChol{Float64,LinearAlgebra.Cholesky{Float64,Array{Float64,2}}}},Array{Float64,2}}\n",
       "\n",
       "MedV ~ 1 + Crim + Zn + Indus + Chas + NOx + Rm + Age + Dis + Rad + Tax + PTRatio + Black + LStat\n",
       "\n",
       "Coefficients:\n",
       "───────────────────────────────────────────────────────────────────────────────────\n",
       "                    Coef.  Std. Error       t  Pr(>|t|)     Lower 95%     Upper 95%\n",
       "───────────────────────────────────────────────────────────────────────────────────\n",
       "(Intercept)   36.7869      5.71959       6.43    <1e-9    25.5419       48.0319\n",
       "Crim          -0.100001    0.0409486    -2.44    0.0150   -0.180508     -0.0194939\n",
       "Zn             0.0391267   0.0161473     2.42    0.0158    0.00738036    0.070873\n",
       "Indus          0.0793419   0.0685755     1.16    0.2480   -0.055481      0.214165\n",
       "Chas           4.18659     1.01611       4.12    <1e-4     2.18887       6.18431\n",
       "NOx          -21.9987      4.23164      -5.20    <1e-6   -30.3184      -13.6791\n",
       "Rm             3.8459      0.486448      7.91    <1e-13    2.88952       4.80228\n",
       "Age            0.00910747  0.0144063     0.63    0.5276   -0.0192161     0.0374311\n",
       "Dis           -1.35607     0.217129     -6.25    <1e-8    -1.78295      -0.929179\n",
       "Rad            0.306065    0.074439      4.11    <1e-4     0.159714      0.452416\n",
       "Tax           -0.0110784   0.00416397   -2.66    0.0081   -0.019265     -0.00289182\n",
       "PTRatio       -0.947483    0.144509     -6.56    <1e-9    -1.2316       -0.663371\n",
       "Black          0.00963196  0.00290424    3.32    0.0010    0.00392208    0.0153418\n",
       "LStat         -0.569193    0.0567253   -10.03    <1e-20   -0.680718     -0.457668\n",
       "───────────────────────────────────────────────────────────────────────────────────"
      ]
     },
     "execution_count": 77,
     "metadata": {},
     "output_type": "execute_result"
    }
   ],
   "source": [
    "model = GLM.lm(@formula(MedV ~ Crim + Zn + Indus + Chas + NOx + Rm + Age + Dis + Rad + Tax + PTRatio + Black + LStat), train)"
   ]
  },
  {
   "cell_type": "markdown",
   "metadata": {},
   "source": [
    "## 預測"
   ]
  },
  {
   "cell_type": "code",
   "execution_count": 78,
   "metadata": {},
   "outputs": [
    {
     "data": {
      "text/plain": [
       "101-element Array{Union{Missing, Float64},1}:\n",
       " 24.594730257740547\n",
       " 31.505304175074926\n",
       " 16.28998681789234\n",
       " 20.411762034376775\n",
       " 31.866790918297575\n",
       " 36.27323974993198\n",
       " 16.025410783220913\n",
       " 22.894681692549067\n",
       " 28.98439077609642\n",
       " 24.263634228045362\n",
       "  8.071908676603956\n",
       " 19.902906375716952\n",
       " 29.2653513583288\n",
       "  ⋮\n",
       " 22.280485823461177\n",
       " 12.94378347577831\n",
       " 24.85615405930873\n",
       " 37.42450764964839\n",
       " 17.039396277118282\n",
       " 15.13373956837586\n",
       " 27.482937101273087\n",
       " 40.17048037457931\n",
       " 24.4730622294979\n",
       " 14.24554894898948\n",
       " 19.714230690745907\n",
       " 20.980873415733306"
      ]
     },
     "execution_count": 78,
     "metadata": {},
     "output_type": "execute_result"
    }
   ],
   "source": [
    "predict(model, test)"
   ]
  },
  {
   "cell_type": "markdown",
   "metadata": {},
   "source": [
    "## 模型評估"
   ]
  },
  {
   "cell_type": "code",
   "execution_count": 79,
   "metadata": {},
   "outputs": [
    {
     "data": {
      "text/plain": [
       "0.7498056356853056"
      ]
     },
     "execution_count": 79,
     "metadata": {},
     "output_type": "execute_result"
    }
   ],
   "source": [
    "GLM.r²(model)"
   ]
  },
  {
   "cell_type": "code",
   "execution_count": 80,
   "metadata": {},
   "outputs": [
    {
     "data": {
      "text/plain": [
       "0.7414871529843055"
      ]
     },
     "execution_count": 80,
     "metadata": {},
     "output_type": "execute_result"
    }
   ],
   "source": [
    "GLM.adjr²(model)"
   ]
  },
  {
   "cell_type": "code",
   "execution_count": null,
   "metadata": {},
   "outputs": [],
   "source": []
  }
 ],
 "metadata": {
  "kernelspec": {
   "display_name": "Julia 1.4.2",
   "language": "julia",
   "name": "julia-1.4"
  },
  "language_info": {
   "file_extension": ".jl",
   "mimetype": "application/julia",
   "name": "julia",
   "version": "1.4.2"
  }
 },
 "nbformat": 4,
 "nbformat_minor": 4
}
