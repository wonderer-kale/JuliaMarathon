{
 "cells": [
  {
   "cell_type": "markdown",
   "metadata": {
    "colab_type": "text",
    "id": "RwwJrhTYktEu"
   },
   "source": [
    "# Julia DataFrames.jl 介紹\n",
    "\n",
    "# Day 017 作業：載入 COVID-19 資料集\n",
    "\n",
    "今天的作業將使用 `DataFrames.jl` 及 `CSV.jl` 套件，來載入美國約翰霍普金斯大學提供的 COVID-19 資料集 (2019 Novel Coronavirus COVID-19 (2019-nCoV) Data Repository by Johns Hopkins CSSE)。資料集作為教育及研究使用，並且被用來建立視覺化儀表板提供檢視及追蹤 COVID-19 疫情狀況。\n",
    "\n",
    "資料集 GitHub: [https://github.com/CSSEGISandData/COVID-19](https://github.com/CSSEGISandData/COVID-19)\n",
    "\n",
    "資料集格式為 CSV，整合不同資料來源，主要分為 Daily Report 及時間序列資料。\n",
    "\n",
    "請自行下載 2020/4/2 的 daily report資料集：[https://github.com/CSSEGISandData/COVID-19/blob/master/csse_covid_19_data/csse_covid_19_daily_reports/04-02-2020.csv](https://github.com/CSSEGISandData/COVID-19/blob/master/csse_covid_19_data/csse_covid_19_daily_reports/04-02-2020.csv)\n",
    "\n",
    "Daily Report 主要欄位有：\n",
    "\n",
    "- Province/State: 省名 (中國)、州名或市名 (美國、加拿大、澳洲)、或是事件名稱 (例如鑽石公主號)...\n",
    "- Country/Region: 國名或區域名\n",
    "- Last Update: 最後更新日期/時間，格式為 24 小時制的 UTC 時間\n",
    "- Confirmed: 確診案例\n",
    "- Deaths: 死亡案例\n",
    "- Recovered: 康復案例\n",
    "- Lat, Long: 經緯度\n",
    "- Combined Key: 複合 Key 值"
   ]
  },
  {
   "cell_type": "code",
   "execution_count": 1,
   "metadata": {
    "colab": {},
    "colab_type": "code",
    "id": "vuP8jUnyktEw"
   },
   "outputs": [],
   "source": [
    "using DataFrames, CSV"
   ]
  },
  {
   "cell_type": "code",
   "execution_count": 2,
   "metadata": {
    "colab": {},
    "colab_type": "code",
    "id": "OpdMDBpOktE2"
   },
   "outputs": [
    {
     "data": {
      "text/html": [
       "<table class=\"data-frame\"><thead><tr><th></th><th>FIPS</th><th>Admin2</th><th>Province_State</th><th>Country_Region</th><th>Last_Update</th><th>Lat</th></tr><tr><th></th><th>Int64⍰</th><th>String⍰</th><th>String⍰</th><th>String</th><th>String</th><th>Float64⍰</th></tr></thead><tbody><p>2,569 rows × 12 columns (omitted printing of 6 columns)</p><tr><th>1</th><td>45001</td><td>Abbeville</td><td>South Carolina</td><td>US</td><td>2020-04-02 23:25:27</td><td>34.2233</td></tr><tr><th>2</th><td>22001</td><td>Acadia</td><td>Louisiana</td><td>US</td><td>2020-04-02 23:25:27</td><td>30.2951</td></tr><tr><th>3</th><td>51001</td><td>Accomack</td><td>Virginia</td><td>US</td><td>2020-04-02 23:25:27</td><td>37.7671</td></tr><tr><th>4</th><td>16001</td><td>Ada</td><td>Idaho</td><td>US</td><td>2020-04-02 23:25:27</td><td>43.4527</td></tr><tr><th>5</th><td>19001</td><td>Adair</td><td>Iowa</td><td>US</td><td>2020-04-02 23:25:27</td><td>41.3308</td></tr><tr><th>6</th><td>29001</td><td>Adair</td><td>Missouri</td><td>US</td><td>2020-04-02 23:25:27</td><td>40.1906</td></tr><tr><th>7</th><td>40001</td><td>Adair</td><td>Oklahoma</td><td>US</td><td>2020-04-02 23:25:27</td><td>35.8849</td></tr><tr><th>8</th><td>8001</td><td>Adams</td><td>Colorado</td><td>US</td><td>2020-04-02 23:25:27</td><td>39.8743</td></tr><tr><th>9</th><td>16003</td><td>Adams</td><td>Idaho</td><td>US</td><td>2020-04-02 23:25:27</td><td>44.8933</td></tr><tr><th>10</th><td>17001</td><td>Adams</td><td>Illinois</td><td>US</td><td>2020-04-02 23:25:27</td><td>39.9882</td></tr><tr><th>11</th><td>18001</td><td>Adams</td><td>Indiana</td><td>US</td><td>2020-04-02 23:25:27</td><td>40.7458</td></tr><tr><th>12</th><td>28001</td><td>Adams</td><td>Mississippi</td><td>US</td><td>2020-04-02 23:25:27</td><td>31.4767</td></tr><tr><th>13</th><td>31001</td><td>Adams</td><td>Nebraska</td><td>US</td><td>2020-04-02 23:25:27</td><td>40.5245</td></tr><tr><th>14</th><td>42001</td><td>Adams</td><td>Pennsylvania</td><td>US</td><td>2020-04-02 23:25:27</td><td>39.8714</td></tr><tr><th>15</th><td>53001</td><td>Adams</td><td>Washington</td><td>US</td><td>2020-04-02 23:25:27</td><td>46.983</td></tr><tr><th>16</th><td>55001</td><td>Adams</td><td>Wisconsin</td><td>US</td><td>2020-04-02 23:25:27</td><td>43.9697</td></tr><tr><th>17</th><td>50001</td><td>Addison</td><td>Vermont</td><td>US</td><td>2020-04-02 23:25:27</td><td>44.0322</td></tr><tr><th>18</th><td>45003</td><td>Aiken</td><td>South Carolina</td><td>US</td><td>2020-04-02 23:25:27</td><td>33.5434</td></tr><tr><th>19</th><td>12001</td><td>Alachua</td><td>Florida</td><td>US</td><td>2020-04-02 23:25:27</td><td>29.6787</td></tr><tr><th>20</th><td>37001</td><td>Alamance</td><td>North Carolina</td><td>US</td><td>2020-04-02 23:25:27</td><td>36.0435</td></tr><tr><th>21</th><td>6001</td><td>Alameda</td><td>California</td><td>US</td><td>2020-04-02 23:25:27</td><td>37.6463</td></tr><tr><th>22</th><td>8003</td><td>Alamosa</td><td>Colorado</td><td>US</td><td>2020-04-02 23:25:27</td><td>37.5725</td></tr><tr><th>23</th><td>36001</td><td>Albany</td><td>New York</td><td>US</td><td>2020-04-02 23:25:27</td><td>42.6006</td></tr><tr><th>24</th><td>56001</td><td>Albany</td><td>Wyoming</td><td>US</td><td>2020-04-02 23:25:27</td><td>41.655</td></tr><tr><th>25</th><td>51003</td><td>Albemarle</td><td>Virginia</td><td>US</td><td>2020-04-02 23:25:27</td><td>38.0208</td></tr><tr><th>26</th><td>28003</td><td>Alcorn</td><td>Mississippi</td><td>US</td><td>2020-04-02 23:25:27</td><td>34.8808</td></tr><tr><th>27</th><td>37003</td><td>Alexander</td><td>North Carolina</td><td>US</td><td>2020-04-02 23:25:27</td><td>35.9224</td></tr><tr><th>28</th><td>51510</td><td>Alexandria</td><td>Virginia</td><td>US</td><td>2020-04-02 23:25:27</td><td>38.814</td></tr><tr><th>29</th><td>19005</td><td>Allamakee</td><td>Iowa</td><td>US</td><td>2020-04-02 23:25:27</td><td>43.2838</td></tr><tr><th>30</th><td>26005</td><td>Allegan</td><td>Michigan</td><td>US</td><td>2020-04-02 23:25:27</td><td>42.5915</td></tr><tr><th>&vellip;</th><td>&vellip;</td><td>&vellip;</td><td>&vellip;</td><td>&vellip;</td><td>&vellip;</td><td>&vellip;</td></tr></tbody></table>"
      ],
      "text/latex": [
       "\\begin{tabular}{r|ccccccc}\n",
       "\t& FIPS & Admin2 & Province\\_State & Country\\_Region & Last\\_Update & Lat & \\\\\n",
       "\t\\hline\n",
       "\t& Int64⍰ & String⍰ & String⍰ & String & String & Float64⍰ & \\\\\n",
       "\t\\hline\n",
       "\t1 & 45001 & Abbeville & South Carolina & US & 2020-04-02 23:25:27 & 34.2233 & $\\dots$ \\\\\n",
       "\t2 & 22001 & Acadia & Louisiana & US & 2020-04-02 23:25:27 & 30.2951 & $\\dots$ \\\\\n",
       "\t3 & 51001 & Accomack & Virginia & US & 2020-04-02 23:25:27 & 37.7671 & $\\dots$ \\\\\n",
       "\t4 & 16001 & Ada & Idaho & US & 2020-04-02 23:25:27 & 43.4527 & $\\dots$ \\\\\n",
       "\t5 & 19001 & Adair & Iowa & US & 2020-04-02 23:25:27 & 41.3308 & $\\dots$ \\\\\n",
       "\t6 & 29001 & Adair & Missouri & US & 2020-04-02 23:25:27 & 40.1906 & $\\dots$ \\\\\n",
       "\t7 & 40001 & Adair & Oklahoma & US & 2020-04-02 23:25:27 & 35.8849 & $\\dots$ \\\\\n",
       "\t8 & 8001 & Adams & Colorado & US & 2020-04-02 23:25:27 & 39.8743 & $\\dots$ \\\\\n",
       "\t9 & 16003 & Adams & Idaho & US & 2020-04-02 23:25:27 & 44.8933 & $\\dots$ \\\\\n",
       "\t10 & 17001 & Adams & Illinois & US & 2020-04-02 23:25:27 & 39.9882 & $\\dots$ \\\\\n",
       "\t11 & 18001 & Adams & Indiana & US & 2020-04-02 23:25:27 & 40.7458 & $\\dots$ \\\\\n",
       "\t12 & 28001 & Adams & Mississippi & US & 2020-04-02 23:25:27 & 31.4767 & $\\dots$ \\\\\n",
       "\t13 & 31001 & Adams & Nebraska & US & 2020-04-02 23:25:27 & 40.5245 & $\\dots$ \\\\\n",
       "\t14 & 42001 & Adams & Pennsylvania & US & 2020-04-02 23:25:27 & 39.8714 & $\\dots$ \\\\\n",
       "\t15 & 53001 & Adams & Washington & US & 2020-04-02 23:25:27 & 46.983 & $\\dots$ \\\\\n",
       "\t16 & 55001 & Adams & Wisconsin & US & 2020-04-02 23:25:27 & 43.9697 & $\\dots$ \\\\\n",
       "\t17 & 50001 & Addison & Vermont & US & 2020-04-02 23:25:27 & 44.0322 & $\\dots$ \\\\\n",
       "\t18 & 45003 & Aiken & South Carolina & US & 2020-04-02 23:25:27 & 33.5434 & $\\dots$ \\\\\n",
       "\t19 & 12001 & Alachua & Florida & US & 2020-04-02 23:25:27 & 29.6787 & $\\dots$ \\\\\n",
       "\t20 & 37001 & Alamance & North Carolina & US & 2020-04-02 23:25:27 & 36.0435 & $\\dots$ \\\\\n",
       "\t21 & 6001 & Alameda & California & US & 2020-04-02 23:25:27 & 37.6463 & $\\dots$ \\\\\n",
       "\t22 & 8003 & Alamosa & Colorado & US & 2020-04-02 23:25:27 & 37.5725 & $\\dots$ \\\\\n",
       "\t23 & 36001 & Albany & New York & US & 2020-04-02 23:25:27 & 42.6006 & $\\dots$ \\\\\n",
       "\t24 & 56001 & Albany & Wyoming & US & 2020-04-02 23:25:27 & 41.655 & $\\dots$ \\\\\n",
       "\t25 & 51003 & Albemarle & Virginia & US & 2020-04-02 23:25:27 & 38.0208 & $\\dots$ \\\\\n",
       "\t26 & 28003 & Alcorn & Mississippi & US & 2020-04-02 23:25:27 & 34.8808 & $\\dots$ \\\\\n",
       "\t27 & 37003 & Alexander & North Carolina & US & 2020-04-02 23:25:27 & 35.9224 & $\\dots$ \\\\\n",
       "\t28 & 51510 & Alexandria & Virginia & US & 2020-04-02 23:25:27 & 38.814 & $\\dots$ \\\\\n",
       "\t29 & 19005 & Allamakee & Iowa & US & 2020-04-02 23:25:27 & 43.2838 & $\\dots$ \\\\\n",
       "\t30 & 26005 & Allegan & Michigan & US & 2020-04-02 23:25:27 & 42.5915 & $\\dots$ \\\\\n",
       "\t$\\dots$ & $\\dots$ & $\\dots$ & $\\dots$ & $\\dots$ & $\\dots$ & $\\dots$ &  \\\\\n",
       "\\end{tabular}\n"
      ],
      "text/plain": [
       "2569×12 DataFrame. Omitted printing of 8 columns\n",
       "│ Row  │ FIPS    │ Admin2     │ Province_State │ Country_Region       │\n",
       "│      │ \u001b[90mInt64⍰\u001b[39m  │ \u001b[90mString⍰\u001b[39m    │ \u001b[90mString⍰\u001b[39m        │ \u001b[90mString\u001b[39m               │\n",
       "├──────┼─────────┼────────────┼────────────────┼──────────────────────┤\n",
       "│ 1    │ 45001   │ Abbeville  │ South Carolina │ US                   │\n",
       "│ 2    │ 22001   │ Acadia     │ Louisiana      │ US                   │\n",
       "│ 3    │ 51001   │ Accomack   │ Virginia       │ US                   │\n",
       "│ 4    │ 16001   │ Ada        │ Idaho          │ US                   │\n",
       "│ 5    │ 19001   │ Adair      │ Iowa           │ US                   │\n",
       "│ 6    │ 29001   │ Adair      │ Missouri       │ US                   │\n",
       "│ 7    │ 40001   │ Adair      │ Oklahoma       │ US                   │\n",
       "│ 8    │ 8001    │ Adams      │ Colorado       │ US                   │\n",
       "│ 9    │ 16003   │ Adams      │ Idaho          │ US                   │\n",
       "│ 10   │ 17001   │ Adams      │ Illinois       │ US                   │\n",
       "⋮\n",
       "│ 2559 │ \u001b[90mmissing\u001b[39m │ \u001b[90mmissing\u001b[39m    │ \u001b[90mmissing\u001b[39m        │ Ukraine              │\n",
       "│ 2560 │ \u001b[90mmissing\u001b[39m │ \u001b[90mmissing\u001b[39m    │ \u001b[90mmissing\u001b[39m        │ United Arab Emirates │\n",
       "│ 2561 │ \u001b[90mmissing\u001b[39m │ \u001b[90mmissing\u001b[39m    │ \u001b[90mmissing\u001b[39m        │ United Kingdom       │\n",
       "│ 2562 │ \u001b[90mmissing\u001b[39m │ \u001b[90mmissing\u001b[39m    │ \u001b[90mmissing\u001b[39m        │ Uruguay              │\n",
       "│ 2563 │ \u001b[90mmissing\u001b[39m │ \u001b[90mmissing\u001b[39m    │ \u001b[90mmissing\u001b[39m        │ Uzbekistan           │\n",
       "│ 2564 │ \u001b[90mmissing\u001b[39m │ \u001b[90mmissing\u001b[39m    │ \u001b[90mmissing\u001b[39m        │ Venezuela            │\n",
       "│ 2565 │ \u001b[90mmissing\u001b[39m │ \u001b[90mmissing\u001b[39m    │ \u001b[90mmissing\u001b[39m        │ Vietnam              │\n",
       "│ 2566 │ \u001b[90mmissing\u001b[39m │ \u001b[90mmissing\u001b[39m    │ \u001b[90mmissing\u001b[39m        │ West Bank and Gaza   │\n",
       "│ 2567 │ \u001b[90mmissing\u001b[39m │ \u001b[90mmissing\u001b[39m    │ \u001b[90mmissing\u001b[39m        │ Zambia               │\n",
       "│ 2568 │ \u001b[90mmissing\u001b[39m │ \u001b[90mmissing\u001b[39m    │ \u001b[90mmissing\u001b[39m        │ Zimbabwe             │\n",
       "│ 2569 │ \u001b[90mmissing\u001b[39m │ unassigned │ Wyoming        │ US                   │"
      ]
     },
     "execution_count": 2,
     "metadata": {},
     "output_type": "execute_result"
    }
   ],
   "source": [
    "df = CSV.read(\"04-02-2020.csv\", delim = ',')"
   ]
  },
  {
   "cell_type": "markdown",
   "metadata": {
    "colab_type": "text",
    "id": "tjHT7JguktE8"
   },
   "source": [
    "請問此資料集的筆數 (row) 及欄位數 (column) 各是多少？"
   ]
  },
  {
   "cell_type": "code",
   "execution_count": 50,
   "metadata": {
    "colab": {},
    "colab_type": "code",
    "id": "PsiCFHoQktE9"
   },
   "outputs": [
    {
     "data": {
      "text/plain": [
       "(2569, 12)"
      ]
     },
     "execution_count": 50,
     "metadata": {},
     "output_type": "execute_result"
    }
   ],
   "source": [
    "# 請在此輸入程式碼\n",
    "size(df)"
   ]
  },
  {
   "cell_type": "code",
   "execution_count": 0,
   "metadata": {
    "colab": {},
    "colab_type": "code",
    "id": "rM_SuUgiktFB"
   },
   "outputs": [],
   "source": [
    "# 彙總 DataFrame 資訊\n",
    "describe(df)"
   ]
  },
  {
   "cell_type": "markdown",
   "metadata": {
    "colab_type": "text",
    "id": "_JFYFQPYktFG"
   },
   "source": [
    "### 作業1：數值 Column 的計算\n",
    "\n",
    "請問截至4月2日為止 (UTC 時間)，全球累計的確診、死亡、及康復案例數各是多少？\n",
    "\n",
    "【提示】可參考 `sum()` 內建函式。"
   ]
  },
  {
   "cell_type": "code",
   "execution_count": 3,
   "metadata": {
    "colab": {},
    "colab_type": "code",
    "id": "FbDS2rEqktFG"
   },
   "outputs": [
    {
     "name": "stdout",
     "output_type": "stream",
     "text": [
      "Confirmed: 1013157\n",
      "Death:52983\n",
      "Recovered: 210263\n"
     ]
    }
   ],
   "source": [
    "println(\"Confirmed: \", sum(df[:, 8]))\n",
    "println(\"Death:\", sum(df[:, 9]))\n",
    "println(\"Recovered: \", sum(df[:, 10]))"
   ]
  },
  {
   "cell_type": "markdown",
   "metadata": {
    "colab_type": "text",
    "id": "L18CxMYmktFL"
   },
   "source": [
    "上面解答範例列出確診案例數前 10 名的 Province_State, Country_Region, Confirmed, Deaths, Recovered 等 5 個 column。"
   ]
  },
  {
   "cell_type": "markdown",
   "metadata": {
    "colab_type": "text",
    "id": "edTskysektFL"
   },
   "source": [
    "### 作業2：找出特定的 Row\n",
    "\n",
    "截至4月2日為止 (UTC 時間)，台灣的確診、死亡、及康復案例數為多少？\n",
    "\n",
    "【提示】使用點運算 `.==` 來比較同一 column 中所有值。"
   ]
  },
  {
   "cell_type": "code",
   "execution_count": 49,
   "metadata": {
    "scrolled": true
   },
   "outputs": [
    {
     "name": "stdout",
     "output_type": "stream",
     "text": [
      "Taiwan Confirmed:\n",
      "339\n",
      "Taiwan Death:\n",
      "5\n",
      "Taiwan Recovered:\n",
      "45\n"
     ]
    }
   ],
   "source": [
    "println(\"Taiwan Confirmed:\")\n",
    "println(sum(df[!, 8] .* (df[!, 4] .== \"Taiwan*\")))\n",
    "println(\"Taiwan Death:\")\n",
    "println(sum(df[!, 9] .* (df[!, 4] .== \"Taiwan*\")))\n",
    "println(\"Taiwan Recovered:\")\n",
    "println(sum(df[!, 10] .* (df[!, 4] .== \"Taiwan*\")))"
   ]
  },
  {
   "cell_type": "code",
   "execution_count": null,
   "metadata": {},
   "outputs": [],
   "source": []
  }
 ],
 "metadata": {
  "colab": {
   "name": "julia_017_hw.ipynb",
   "provenance": []
  },
  "kernelspec": {
   "display_name": "Julia 1.4.2",
   "language": "julia",
   "name": "julia-1.4"
  },
  "language_info": {
   "file_extension": ".jl",
   "mimetype": "application/julia",
   "name": "julia",
   "version": "1.4.2"
  }
 },
 "nbformat": 4,
 "nbformat_minor": 1
}
